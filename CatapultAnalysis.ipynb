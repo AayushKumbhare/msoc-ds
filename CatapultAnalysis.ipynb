{
 "cells": [
  {
   "cell_type": "code",
   "execution_count": 17,
   "id": "initial_id",
   "metadata": {
    "ExecuteTime": {
     "end_time": "2025-02-01T22:34:39.316425Z",
     "start_time": "2025-02-01T22:34:38.777024Z"
    },
    "collapsed": true
   },
   "outputs": [
    {
     "name": "stdout",
     "output_type": "stream",
     "text": [
      "Requirement already satisfied: requests in /Users/rahuldatta/.pyenv/versions/3.10.14/envs/SSMSOC-virtualenv-3.10.14/lib/python3.10/site-packages (2.32.3)\r\n",
      "Requirement already satisfied: sqlmodel in /Users/rahuldatta/.pyenv/versions/3.10.14/envs/SSMSOC-virtualenv-3.10.14/lib/python3.10/site-packages (0.0.22)\r\n",
      "Requirement already satisfied: charset-normalizer<4,>=2 in /Users/rahuldatta/.pyenv/versions/3.10.14/envs/SSMSOC-virtualenv-3.10.14/lib/python3.10/site-packages (from requests) (3.4.1)\r\n",
      "Requirement already satisfied: idna<4,>=2.5 in /Users/rahuldatta/.pyenv/versions/3.10.14/envs/SSMSOC-virtualenv-3.10.14/lib/python3.10/site-packages (from requests) (3.10)\r\n",
      "Requirement already satisfied: urllib3<3,>=1.21.1 in /Users/rahuldatta/.pyenv/versions/3.10.14/envs/SSMSOC-virtualenv-3.10.14/lib/python3.10/site-packages (from requests) (2.3.0)\r\n",
      "Requirement already satisfied: certifi>=2017.4.17 in /Users/rahuldatta/.pyenv/versions/3.10.14/envs/SSMSOC-virtualenv-3.10.14/lib/python3.10/site-packages (from requests) (2025.1.31)\r\n",
      "Requirement already satisfied: SQLAlchemy<2.1.0,>=2.0.14 in /Users/rahuldatta/.pyenv/versions/3.10.14/envs/SSMSOC-virtualenv-3.10.14/lib/python3.10/site-packages (from sqlmodel) (2.0.37)\r\n",
      "Requirement already satisfied: pydantic<3.0.0,>=1.10.13 in /Users/rahuldatta/.pyenv/versions/3.10.14/envs/SSMSOC-virtualenv-3.10.14/lib/python3.10/site-packages (from sqlmodel) (2.10.6)\r\n",
      "Requirement already satisfied: annotated-types>=0.6.0 in /Users/rahuldatta/.pyenv/versions/3.10.14/envs/SSMSOC-virtualenv-3.10.14/lib/python3.10/site-packages (from pydantic<3.0.0,>=1.10.13->sqlmodel) (0.7.0)\r\n",
      "Requirement already satisfied: pydantic-core==2.27.2 in /Users/rahuldatta/.pyenv/versions/3.10.14/envs/SSMSOC-virtualenv-3.10.14/lib/python3.10/site-packages (from pydantic<3.0.0,>=1.10.13->sqlmodel) (2.27.2)\r\n",
      "Requirement already satisfied: typing-extensions>=4.12.2 in /Users/rahuldatta/.pyenv/versions/3.10.14/envs/SSMSOC-virtualenv-3.10.14/lib/python3.10/site-packages (from pydantic<3.0.0,>=1.10.13->sqlmodel) (4.12.2)\r\n"
     ]
    }
   ],
   "source": [
    "!pip install requests sqlmodel\n",
    "from datetime import datetime\n",
    "import requests,json\n",
    "\n",
    "from sqlmodel import Session\n",
    "\n",
    "from models import Athlete, Activity, Owner, Period\n",
    "from database import create_db_and_tables, get_session, engine"
   ]
  },
  {
   "cell_type": "code",
   "execution_count": 20,
   "id": "487fd4956dd35ca9",
   "metadata": {
    "ExecuteTime": {
     "end_time": "2025-02-01T22:54:44.668462Z",
     "start_time": "2025-02-01T22:54:44.663948Z"
    }
   },
   "outputs": [],
   "source": [
    "def getData(field='athletes'):\n",
    "    header = {\n",
    "        'accept': 'application/json',\n",
    "        'authorization': f\"Bearer eyJ0eXAiOiJKV1QiLCJhbGciOiJSUzI1NiJ9.eyJhdWQiOiI0NjFiMTExMS02ZjdhLTRkYmItOWQyOS0yMzAzOWZlMjI4OGUiLCJqdGkiOiJhN2U5MjBhN2RhMDJkMjFkMDVhNTljN2E0ZTVmYzAxMDkyMGE0NDRhNTY2Mjg1ZDJkMDk4Y2Y1OWQ5OWEwODhkYmQ0NTVjOGQyNGYxNzkwMyIsImlhdCI6MTczNzY2OTUxMC42MDI1OTUsIm5iZiI6MTczNzY2OTUxMC42MDI1OTcsImV4cCI6NDg5MTI2OTUxMC41OTMyODgsInN1YiI6IjdhMmQ3MDM4LTMxYzgtNDUxNS1iZTM4LTkwNDRiOWY3ZWQ0OSIsInNjb3BlcyI6WyJjb25uZWN0Iiwic2Vuc29yLXJlYWQtb25seSIsImF0aGxldGVzLXVwZGF0ZSIsInRhZ3MtdXBkYXRlIiwiYWN0aXZpdGllcy11cGRhdGUiLCJhbm5vdGF0aW9ucy11cGRhdGUiLCJwYXJhbWV0ZXJzLXVwZGF0ZSJdfQ.vUaUio4sdG1fxs9FgO1DHtSRDsInCUiHdbKh01o8o4AjzIcoKXcg_S0vnJr7yO5TWv5wn5_9wYbY4b3bO-48WDr3lZY4EsTEKNCwQe0PzyJ11JJEMZpqylisp2oM97PnqVZWIDXD1tatWrAq0i0BBX93TCfanvzQf93eVKEzCD89S8UwFW5gyrwTH2Zx0HcXUo7PIOJTc-Ie1NDoItAYrSyIfzkJxHV_vOadiTuHuDyl6DFuyJrPwJMJW4MGhb3l1L88HlYNw297ePeq1HOy8vl1cBgvjjpxqp9lTSGj1nZjUjGFkCT6jqh2DmZyrVr0F-Pi3QSwPIOV3ziYYeyenRLBDZddY50ioLC9kk5Y2tFOKmBT6rFK881ek7RyNwt0i8k-RSVCrcgm1QLnPCk6DeOWUPSquSQY5TrUmSboyCMss6mNml_dyw7Kme5uZhv37H8B82ZIal73q_zxIuoX6wvu-pUinrarCAfyDJi37T72gG1w9EndE5eF-uhHUINtVIRuRVPzNlPvGUsnBIoqsm_6N_jS4tQsDSPewGbzZ-PcX2bzL3j5QcSZuu0zJjCJQ740pjr1wqXVWW_qsPj-Fauq54aGfHTDJZfI0U2dW9E5TeG4-2yw3en9-79_IIVoi0u4fxMzI8FeeD_h1CCrNNDg5ZcuhpXpruucQhpR3fE\"\n",
    "    }\n",
    "\n",
    "    endpoint = 'https://connect-us.catapultsports.com/api/v6'\n",
    "\n",
    "\n",
    "    #This string can be changed depending on what data you want.  See the link\n",
    "    #in the google docs or below for more info on the api.\n",
    "    #https://docs.connect.catapultsports.com/reference/introduction\n",
    "\n",
    "    url = f'{endpoint}/{field}'\n",
    "\n",
    "    try:\n",
    "        response = requests.get(url,headers=header)\n",
    "        response.raise_for_status()\n",
    "        return response.text\n",
    "    except requests.exceptions.RequestException as err:\n",
    "        print(f\"Error: {err}\")"
   ]
  },
  {
   "cell_type": "code",
   "execution_count": 12,
   "id": "2c099b42fb268cfe",
   "metadata": {
    "ExecuteTime": {
     "end_time": "2025-02-01T22:26:19.518191Z",
     "start_time": "2025-02-01T22:26:15.608700Z"
    }
   },
   "outputs": [
    {
     "name": "stdout",
     "output_type": "stream",
     "text": [
      "3049718\n"
     ]
    }
   ],
   "source": [
    "# Save the retrieved data to a JSON file locally\n",
    "data = getData()\n",
    "print(len(data))\n",
    "# print(type(data))\n",
    "# print(data)\n",
    "\n",
    "with open('athletes_data.json', 'w') as json_file:\n",
    "    json.dump(json.loads(data), json_file)\n"
   ]
  },
  {
   "cell_type": "code",
   "execution_count": 19,
   "id": "9718dafb704786dd",
   "metadata": {
    "ExecuteTime": {
     "end_time": "2025-02-01T22:34:57.124191Z",
     "start_time": "2025-02-01T22:34:57.086897Z"
    }
   },
   "outputs": [],
   "source": [
    "def parse_datetime(date_string):\n",
    "    if date_string:\n",
    "        return datetime.strptime(date_string, \"%Y-%m-%d %H:%M:%S\")\n",
    "    return None\n",
    "\n",
    "def store_athletes(data):\n",
    "    create_db_and_tables()\n",
    "    session = next(get_session())\n",
    "\n",
    "    for athlete_data in data:\n",
    "        athlete = Athlete(\n",
    "            id=athlete_data[\"id\"],\n",
    "            first_name=athlete_data[\"first_name\"],\n",
    "            last_name=athlete_data[\"last_name\"],\n",
    "            gender=athlete_data[\"gender\"],\n",
    "            jersey=athlete_data[\"jersey\"],\n",
    "            nickname=athlete_data[\"nickname\"],\n",
    "            height=athlete_data[\"height\"],\n",
    "            weight=athlete_data[\"weight\"],\n",
    "            date_of_birth=datetime.fromtimestamp(athlete_data[\"date_of_birth\"]),\n",
    "            velocity_max=athlete_data[\"velocity_max\"],\n",
    "            acceleration_max=athlete_data[\"acceleration_max\"],\n",
    "            heart_rate_max=athlete_data[\"heart_rate_max\"],\n",
    "            player_load_max=athlete_data[\"player_load_max\"],\n",
    "            image=athlete_data[\"image\"],\n",
    "            icon=athlete_data[\"icon\"],\n",
    "            stroke_colour=athlete_data[\"stroke_colour\"],\n",
    "            fill_colour=athlete_data[\"fill_colour\"],\n",
    "            trail_colour_start=athlete_data[\"trail_colour_start\"],\n",
    "            trail_colour_end=athlete_data[\"trail_colour_end\"],\n",
    "            is_synced=athlete_data[\"is_synced\"],\n",
    "            is_deleted=athlete_data[\"is_deleted\"],\n",
    "            created_at=parse_datetime(athlete_data[\"created_at\"]),\n",
    "            modified_at=parse_datetime(athlete_data[\"modified_at\"]),\n",
    "            date_of_birth_date=athlete_data[\"date_of_birth_date\"],\n",
    "            is_demo=athlete_data[\"is_demo\"],\n",
    "            current_team_id=athlete_data[\"current_team_id\"],\n",
    "            max_player_load_per_minute=athlete_data[\"max_player_load_per_minute\"],\n",
    "            position=athlete_data[\"position\"],\n",
    "            position_id=athlete_data[\"position_id\"],\n",
    "            position_name=athlete_data[\"position_name\"]\n",
    "        )\n",
    "        session.add(athlete)\n",
    "\n",
    "    session.commit()\n",
    "    session.close()\n",
    "\n",
    "# Load the JSON data\n",
    "with open('athletes_data.json', 'r') as f:\n",
    "    athletes_data = json.load(f)\n",
    "\n",
    "# Store the athletes\n",
    "store_athletes(athletes_data)"
   ]
  },
  {
   "cell_type": "code",
   "execution_count": 16,
   "id": "cd40466354f4b841",
   "metadata": {
    "ExecuteTime": {
     "end_time": "2025-02-01T22:28:52.245173Z",
     "start_time": "2025-02-01T22:28:51.259127Z"
    }
   },
   "outputs": [
    {
     "ename": "IntegrityError",
     "evalue": "(sqlite3.IntegrityError) UNIQUE constraint failed: activity.id\n[SQL: INSERT INTO activity (id, name, start_time, end_time, modified_at, game_id, owner_id, athlete_count, period_count) VALUES (?, ?, ?, ?, ?, ?, ?, ?, ?)]\n[parameters: [('8680b45a-af2c-4533-8e7c-aa796dfc8749', '1-30-25 Training', 1738260321, 1738268470, '2025-01-30 22:50:37.000000', '8680b45a-af2c-4533-8e7c-aa796dfc8749', '7a2d7038-31c8-4515-be38-9044b9f7ed49', 19, 12), ('aab46b07-cfa6-48f3-a550-383f9accb4d2', '1-28-25 Training', 1738087693, 1738097275, '2025-01-28 21:05:52.000000', 'aab46b07-cfa6-48f3-a550-383f9accb4d2', '7a2d7038-31c8-4515-be38-9044b9f7ed49', 16, 10), ('3024f0ea-c087-464b-97ec-c63ecea7a7d7', '1-27-24 Training', 1738006619, 1738025684, '2025-01-28 21:05:52.000000', '3024f0ea-c087-464b-97ec-c63ecea7a7d7', '7a2d7038-31c8-4515-be38-9044b9f7ed49', 17, 8), ('c2cb2d5e-2849-44c2-adba-08ed7ed124b9', '1-24-25 Training', 1737747132, 1737752165, '2025-01-27 18:21:41.000000', 'c2cb2d5e-2849-44c2-adba-08ed7ed124b9', '7a2d7038-31c8-4515-be38-9044b9f7ed49', 18, 6), ('28a547f2-8b78-4e2d-a03f-3b8f5dddc00c', '1-23-24 Training', 1737655525, 1737665797, '2025-01-23 21:25:32.000000', '28a547f2-8b78-4e2d-a03f-3b8f5dddc00c', '7a2d7038-31c8-4515-be38-9044b9f7ed49', 15, 11), ('83d851e3-3518-4262-9192-a2b4567320e8', '1-21-25 Training', 1737482649, 1737493291, '2025-01-21 21:29:53.000000', '83d851e3-3518-4262-9192-a2b4567320e8', '7a2d7038-31c8-4515-be38-9044b9f7ed49', 19, 11), ('cb0a77c2-5add-48f0-9566-7345058e736c', '1-16-25 General', 1737051019, 1737058628, '2025-01-16 23:54:53.000000', 'cb0a77c2-5add-48f0-9566-7345058e736c', '7a2d7038-31c8-4515-be38-9044b9f7ed49', 18, 15), ('fdc896f6-1a4e-4e2c-9a5f-8828670fe82d', '1-14-25 General', 1736877514, 1736886294, '2025-01-14 21:35:30.000000', 'fdc896f6-1a4e-4e2c-9a5f-8828670fe82d', '7a2d7038-31c8-4515-be38-9044b9f7ed49', 17, 12)  ... displaying 10 of 1558 total bound parameter sets ...  ('268da4ba-a767-4d23-94e6-da9228ff35e7', 'Activity 20160620152725', 1466461645, 1466468051, '2020-12-07 16:37:56.000000', '268da4ba-a767-4d23-94e6-da9228ff35e7', '7a2d7038-31c8-4515-be38-9044b9f7ed49', 3, 1), ('1f69231c-a988-4ad0-a612-fe8a4162dc0a', 'Activity 20160620140738', 1466456825, 1466459435, '2020-12-07 16:37:56.000000', '1f69231c-a988-4ad0-a612-fe8a4162dc0a', '7a2d7038-31c8-4515-be38-9044b9f7ed49', 5, 1)]]\n(Background on this error at: https://sqlalche.me/e/20/gkpj)",
     "output_type": "error",
     "traceback": [
      "\u001b[0;31m---------------------------------------------------------------------------\u001b[0m",
      "\u001b[0;31mIntegrityError\u001b[0m                            Traceback (most recent call last)",
      "File \u001b[0;32m~/.pyenv/versions/SSMSOC-virtualenv-3.10.14/lib/python3.10/site-packages/sqlalchemy/engine/base.py:1933\u001b[0m, in \u001b[0;36mConnection._exec_single_context\u001b[0;34m(self, dialect, context, statement, parameters)\u001b[0m\n\u001b[1;32m   1932\u001b[0m     \u001b[38;5;28;01mif\u001b[39;00m \u001b[38;5;129;01mnot\u001b[39;00m evt_handled:\n\u001b[0;32m-> 1933\u001b[0m         \u001b[38;5;28;43mself\u001b[39;49m\u001b[38;5;241;43m.\u001b[39;49m\u001b[43mdialect\u001b[49m\u001b[38;5;241;43m.\u001b[39;49m\u001b[43mdo_executemany\u001b[49m\u001b[43m(\u001b[49m\n\u001b[1;32m   1934\u001b[0m \u001b[43m            \u001b[49m\u001b[43mcursor\u001b[49m\u001b[43m,\u001b[49m\n\u001b[1;32m   1935\u001b[0m \u001b[43m            \u001b[49m\u001b[43mstr_statement\u001b[49m\u001b[43m,\u001b[49m\n\u001b[1;32m   1936\u001b[0m \u001b[43m            \u001b[49m\u001b[43meffective_parameters\u001b[49m\u001b[43m,\u001b[49m\n\u001b[1;32m   1937\u001b[0m \u001b[43m            \u001b[49m\u001b[43mcontext\u001b[49m\u001b[43m,\u001b[49m\n\u001b[1;32m   1938\u001b[0m \u001b[43m        \u001b[49m\u001b[43m)\u001b[49m\n\u001b[1;32m   1939\u001b[0m \u001b[38;5;28;01melif\u001b[39;00m \u001b[38;5;129;01mnot\u001b[39;00m effective_parameters \u001b[38;5;129;01mand\u001b[39;00m context\u001b[38;5;241m.\u001b[39mno_parameters:\n",
      "File \u001b[0;32m~/.pyenv/versions/SSMSOC-virtualenv-3.10.14/lib/python3.10/site-packages/sqlalchemy/engine/default.py:939\u001b[0m, in \u001b[0;36mDefaultDialect.do_executemany\u001b[0;34m(self, cursor, statement, parameters, context)\u001b[0m\n\u001b[1;32m    938\u001b[0m \u001b[38;5;28;01mdef\u001b[39;00m\u001b[38;5;250m \u001b[39m\u001b[38;5;21mdo_executemany\u001b[39m(\u001b[38;5;28mself\u001b[39m, cursor, statement, parameters, context\u001b[38;5;241m=\u001b[39m\u001b[38;5;28;01mNone\u001b[39;00m):\n\u001b[0;32m--> 939\u001b[0m     \u001b[43mcursor\u001b[49m\u001b[38;5;241;43m.\u001b[39;49m\u001b[43mexecutemany\u001b[49m\u001b[43m(\u001b[49m\u001b[43mstatement\u001b[49m\u001b[43m,\u001b[49m\u001b[43m \u001b[49m\u001b[43mparameters\u001b[49m\u001b[43m)\u001b[49m\n",
      "\u001b[0;31mIntegrityError\u001b[0m: UNIQUE constraint failed: activity.id",
      "\nThe above exception was the direct cause of the following exception:\n",
      "\u001b[0;31mIntegrityError\u001b[0m                            Traceback (most recent call last)",
      "Cell \u001b[0;32mIn[16], line 82\u001b[0m\n\u001b[1;32m     80\u001b[0m \u001b[38;5;28;01mwith\u001b[39;00m \u001b[38;5;28mopen\u001b[39m(\u001b[38;5;124m'\u001b[39m\u001b[38;5;124mactivities_data.json\u001b[39m\u001b[38;5;124m'\u001b[39m, \u001b[38;5;124m'\u001b[39m\u001b[38;5;124mr\u001b[39m\u001b[38;5;124m'\u001b[39m) \u001b[38;5;28;01mas\u001b[39;00m f:\n\u001b[1;32m     81\u001b[0m     activities_data \u001b[38;5;241m=\u001b[39m json\u001b[38;5;241m.\u001b[39mload(f)\n\u001b[0;32m---> 82\u001b[0m \u001b[43mstore_activities\u001b[49m\u001b[43m(\u001b[49m\u001b[43mactivities_data\u001b[49m\u001b[43m)\u001b[49m\n",
      "Cell \u001b[0;32mIn[16], line 75\u001b[0m, in \u001b[0;36mstore_activities\u001b[0;34m(data)\u001b[0m\n\u001b[1;32m     61\u001b[0m         session\u001b[38;5;241m.\u001b[39madd(period)\n\u001b[1;32m     62\u001b[0m     \u001b[38;5;66;03m#\u001b[39;00m\n\u001b[1;32m     63\u001b[0m     \u001b[38;5;66;03m# # Create Tags\u001b[39;00m\n\u001b[1;32m     64\u001b[0m     \u001b[38;5;66;03m# for tag_data in activity_data[\"tag_list\"]:\u001b[39;00m\n\u001b[0;32m   (...)\u001b[0m\n\u001b[1;32m     72\u001b[0m     \u001b[38;5;66;03m#     session.add(tag)\u001b[39;00m\n\u001b[1;32m     73\u001b[0m     \u001b[38;5;66;03m#     activity.tag_list.append(tag)\u001b[39;00m\n\u001b[0;32m---> 75\u001b[0m \u001b[43msession\u001b[49m\u001b[38;5;241;43m.\u001b[39;49m\u001b[43mcommit\u001b[49m\u001b[43m(\u001b[49m\u001b[43m)\u001b[49m\n\u001b[1;32m     76\u001b[0m session\u001b[38;5;241m.\u001b[39mclose()\n",
      "File \u001b[0;32m~/.pyenv/versions/SSMSOC-virtualenv-3.10.14/lib/python3.10/site-packages/sqlalchemy/orm/session.py:2032\u001b[0m, in \u001b[0;36mSession.commit\u001b[0;34m(self)\u001b[0m\n\u001b[1;32m   2029\u001b[0m \u001b[38;5;28;01mif\u001b[39;00m trans \u001b[38;5;129;01mis\u001b[39;00m \u001b[38;5;28;01mNone\u001b[39;00m:\n\u001b[1;32m   2030\u001b[0m     trans \u001b[38;5;241m=\u001b[39m \u001b[38;5;28mself\u001b[39m\u001b[38;5;241m.\u001b[39m_autobegin_t()\n\u001b[0;32m-> 2032\u001b[0m \u001b[43mtrans\u001b[49m\u001b[38;5;241;43m.\u001b[39;49m\u001b[43mcommit\u001b[49m\u001b[43m(\u001b[49m\u001b[43m_to_root\u001b[49m\u001b[38;5;241;43m=\u001b[39;49m\u001b[38;5;28;43;01mTrue\u001b[39;49;00m\u001b[43m)\u001b[49m\n",
      "File \u001b[0;32m<string>:2\u001b[0m, in \u001b[0;36mcommit\u001b[0;34m(self, _to_root)\u001b[0m\n",
      "File \u001b[0;32m~/.pyenv/versions/SSMSOC-virtualenv-3.10.14/lib/python3.10/site-packages/sqlalchemy/orm/state_changes.py:139\u001b[0m, in \u001b[0;36m_StateChange.declare_states.<locals>._go\u001b[0;34m(fn, self, *arg, **kw)\u001b[0m\n\u001b[1;32m    137\u001b[0m \u001b[38;5;28mself\u001b[39m\u001b[38;5;241m.\u001b[39m_next_state \u001b[38;5;241m=\u001b[39m _StateChangeStates\u001b[38;5;241m.\u001b[39mCHANGE_IN_PROGRESS\n\u001b[1;32m    138\u001b[0m \u001b[38;5;28;01mtry\u001b[39;00m:\n\u001b[0;32m--> 139\u001b[0m     ret_value \u001b[38;5;241m=\u001b[39m \u001b[43mfn\u001b[49m\u001b[43m(\u001b[49m\u001b[38;5;28;43mself\u001b[39;49m\u001b[43m,\u001b[49m\u001b[43m \u001b[49m\u001b[38;5;241;43m*\u001b[39;49m\u001b[43marg\u001b[49m\u001b[43m,\u001b[49m\u001b[43m \u001b[49m\u001b[38;5;241;43m*\u001b[39;49m\u001b[38;5;241;43m*\u001b[39;49m\u001b[43mkw\u001b[49m\u001b[43m)\u001b[49m\n\u001b[1;32m    140\u001b[0m \u001b[38;5;28;01mexcept\u001b[39;00m:\n\u001b[1;32m    141\u001b[0m     \u001b[38;5;28;01mraise\u001b[39;00m\n",
      "File \u001b[0;32m~/.pyenv/versions/SSMSOC-virtualenv-3.10.14/lib/python3.10/site-packages/sqlalchemy/orm/session.py:1313\u001b[0m, in \u001b[0;36mSessionTransaction.commit\u001b[0;34m(self, _to_root)\u001b[0m\n\u001b[1;32m   1311\u001b[0m \u001b[38;5;28;01mif\u001b[39;00m \u001b[38;5;28mself\u001b[39m\u001b[38;5;241m.\u001b[39m_state \u001b[38;5;129;01mis\u001b[39;00m \u001b[38;5;129;01mnot\u001b[39;00m SessionTransactionState\u001b[38;5;241m.\u001b[39mPREPARED:\n\u001b[1;32m   1312\u001b[0m     \u001b[38;5;28;01mwith\u001b[39;00m \u001b[38;5;28mself\u001b[39m\u001b[38;5;241m.\u001b[39m_expect_state(SessionTransactionState\u001b[38;5;241m.\u001b[39mPREPARED):\n\u001b[0;32m-> 1313\u001b[0m         \u001b[38;5;28;43mself\u001b[39;49m\u001b[38;5;241;43m.\u001b[39;49m\u001b[43m_prepare_impl\u001b[49m\u001b[43m(\u001b[49m\u001b[43m)\u001b[49m\n\u001b[1;32m   1315\u001b[0m \u001b[38;5;28;01mif\u001b[39;00m \u001b[38;5;28mself\u001b[39m\u001b[38;5;241m.\u001b[39m_parent \u001b[38;5;129;01mis\u001b[39;00m \u001b[38;5;28;01mNone\u001b[39;00m \u001b[38;5;129;01mor\u001b[39;00m \u001b[38;5;28mself\u001b[39m\u001b[38;5;241m.\u001b[39mnested:\n\u001b[1;32m   1316\u001b[0m     \u001b[38;5;28;01mfor\u001b[39;00m conn, trans, should_commit, autoclose \u001b[38;5;129;01min\u001b[39;00m \u001b[38;5;28mset\u001b[39m(\n\u001b[1;32m   1317\u001b[0m         \u001b[38;5;28mself\u001b[39m\u001b[38;5;241m.\u001b[39m_connections\u001b[38;5;241m.\u001b[39mvalues()\n\u001b[1;32m   1318\u001b[0m     ):\n",
      "File \u001b[0;32m<string>:2\u001b[0m, in \u001b[0;36m_prepare_impl\u001b[0;34m(self)\u001b[0m\n",
      "File \u001b[0;32m~/.pyenv/versions/SSMSOC-virtualenv-3.10.14/lib/python3.10/site-packages/sqlalchemy/orm/state_changes.py:139\u001b[0m, in \u001b[0;36m_StateChange.declare_states.<locals>._go\u001b[0;34m(fn, self, *arg, **kw)\u001b[0m\n\u001b[1;32m    137\u001b[0m \u001b[38;5;28mself\u001b[39m\u001b[38;5;241m.\u001b[39m_next_state \u001b[38;5;241m=\u001b[39m _StateChangeStates\u001b[38;5;241m.\u001b[39mCHANGE_IN_PROGRESS\n\u001b[1;32m    138\u001b[0m \u001b[38;5;28;01mtry\u001b[39;00m:\n\u001b[0;32m--> 139\u001b[0m     ret_value \u001b[38;5;241m=\u001b[39m \u001b[43mfn\u001b[49m\u001b[43m(\u001b[49m\u001b[38;5;28;43mself\u001b[39;49m\u001b[43m,\u001b[49m\u001b[43m \u001b[49m\u001b[38;5;241;43m*\u001b[39;49m\u001b[43marg\u001b[49m\u001b[43m,\u001b[49m\u001b[43m \u001b[49m\u001b[38;5;241;43m*\u001b[39;49m\u001b[38;5;241;43m*\u001b[39;49m\u001b[43mkw\u001b[49m\u001b[43m)\u001b[49m\n\u001b[1;32m    140\u001b[0m \u001b[38;5;28;01mexcept\u001b[39;00m:\n\u001b[1;32m    141\u001b[0m     \u001b[38;5;28;01mraise\u001b[39;00m\n",
      "File \u001b[0;32m~/.pyenv/versions/SSMSOC-virtualenv-3.10.14/lib/python3.10/site-packages/sqlalchemy/orm/session.py:1288\u001b[0m, in \u001b[0;36mSessionTransaction._prepare_impl\u001b[0;34m(self)\u001b[0m\n\u001b[1;32m   1286\u001b[0m     \u001b[38;5;28;01mif\u001b[39;00m \u001b[38;5;28mself\u001b[39m\u001b[38;5;241m.\u001b[39msession\u001b[38;5;241m.\u001b[39m_is_clean():\n\u001b[1;32m   1287\u001b[0m         \u001b[38;5;28;01mbreak\u001b[39;00m\n\u001b[0;32m-> 1288\u001b[0m     \u001b[38;5;28;43mself\u001b[39;49m\u001b[38;5;241;43m.\u001b[39;49m\u001b[43msession\u001b[49m\u001b[38;5;241;43m.\u001b[39;49m\u001b[43mflush\u001b[49m\u001b[43m(\u001b[49m\u001b[43m)\u001b[49m\n\u001b[1;32m   1289\u001b[0m \u001b[38;5;28;01melse\u001b[39;00m:\n\u001b[1;32m   1290\u001b[0m     \u001b[38;5;28;01mraise\u001b[39;00m exc\u001b[38;5;241m.\u001b[39mFlushError(\n\u001b[1;32m   1291\u001b[0m         \u001b[38;5;124m\"\u001b[39m\u001b[38;5;124mOver 100 subsequent flushes have occurred within \u001b[39m\u001b[38;5;124m\"\u001b[39m\n\u001b[1;32m   1292\u001b[0m         \u001b[38;5;124m\"\u001b[39m\u001b[38;5;124msession.commit() - is an after_flush() hook \u001b[39m\u001b[38;5;124m\"\u001b[39m\n\u001b[1;32m   1293\u001b[0m         \u001b[38;5;124m\"\u001b[39m\u001b[38;5;124mcreating new objects?\u001b[39m\u001b[38;5;124m\"\u001b[39m\n\u001b[1;32m   1294\u001b[0m     )\n",
      "File \u001b[0;32m~/.pyenv/versions/SSMSOC-virtualenv-3.10.14/lib/python3.10/site-packages/sqlalchemy/orm/session.py:4353\u001b[0m, in \u001b[0;36mSession.flush\u001b[0;34m(self, objects)\u001b[0m\n\u001b[1;32m   4351\u001b[0m \u001b[38;5;28;01mtry\u001b[39;00m:\n\u001b[1;32m   4352\u001b[0m     \u001b[38;5;28mself\u001b[39m\u001b[38;5;241m.\u001b[39m_flushing \u001b[38;5;241m=\u001b[39m \u001b[38;5;28;01mTrue\u001b[39;00m\n\u001b[0;32m-> 4353\u001b[0m     \u001b[38;5;28;43mself\u001b[39;49m\u001b[38;5;241;43m.\u001b[39;49m\u001b[43m_flush\u001b[49m\u001b[43m(\u001b[49m\u001b[43mobjects\u001b[49m\u001b[43m)\u001b[49m\n\u001b[1;32m   4354\u001b[0m \u001b[38;5;28;01mfinally\u001b[39;00m:\n\u001b[1;32m   4355\u001b[0m     \u001b[38;5;28mself\u001b[39m\u001b[38;5;241m.\u001b[39m_flushing \u001b[38;5;241m=\u001b[39m \u001b[38;5;28;01mFalse\u001b[39;00m\n",
      "File \u001b[0;32m~/.pyenv/versions/SSMSOC-virtualenv-3.10.14/lib/python3.10/site-packages/sqlalchemy/orm/session.py:4488\u001b[0m, in \u001b[0;36mSession._flush\u001b[0;34m(self, objects)\u001b[0m\n\u001b[1;32m   4485\u001b[0m     transaction\u001b[38;5;241m.\u001b[39mcommit()\n\u001b[1;32m   4487\u001b[0m \u001b[38;5;28;01mexcept\u001b[39;00m:\n\u001b[0;32m-> 4488\u001b[0m     \u001b[38;5;28;01mwith\u001b[39;00m util\u001b[38;5;241m.\u001b[39msafe_reraise():\n\u001b[1;32m   4489\u001b[0m         transaction\u001b[38;5;241m.\u001b[39mrollback(_capture_exception\u001b[38;5;241m=\u001b[39m\u001b[38;5;28;01mTrue\u001b[39;00m)\n",
      "File \u001b[0;32m~/.pyenv/versions/SSMSOC-virtualenv-3.10.14/lib/python3.10/site-packages/sqlalchemy/util/langhelpers.py:146\u001b[0m, in \u001b[0;36msafe_reraise.__exit__\u001b[0;34m(self, type_, value, traceback)\u001b[0m\n\u001b[1;32m    144\u001b[0m     \u001b[38;5;28;01massert\u001b[39;00m exc_value \u001b[38;5;129;01mis\u001b[39;00m \u001b[38;5;129;01mnot\u001b[39;00m \u001b[38;5;28;01mNone\u001b[39;00m\n\u001b[1;32m    145\u001b[0m     \u001b[38;5;28mself\u001b[39m\u001b[38;5;241m.\u001b[39m_exc_info \u001b[38;5;241m=\u001b[39m \u001b[38;5;28;01mNone\u001b[39;00m  \u001b[38;5;66;03m# remove potential circular references\u001b[39;00m\n\u001b[0;32m--> 146\u001b[0m     \u001b[38;5;28;01mraise\u001b[39;00m exc_value\u001b[38;5;241m.\u001b[39mwith_traceback(exc_tb)\n\u001b[1;32m    147\u001b[0m \u001b[38;5;28;01melse\u001b[39;00m:\n\u001b[1;32m    148\u001b[0m     \u001b[38;5;28mself\u001b[39m\u001b[38;5;241m.\u001b[39m_exc_info \u001b[38;5;241m=\u001b[39m \u001b[38;5;28;01mNone\u001b[39;00m  \u001b[38;5;66;03m# remove potential circular references\u001b[39;00m\n",
      "File \u001b[0;32m~/.pyenv/versions/SSMSOC-virtualenv-3.10.14/lib/python3.10/site-packages/sqlalchemy/orm/session.py:4449\u001b[0m, in \u001b[0;36mSession._flush\u001b[0;34m(self, objects)\u001b[0m\n\u001b[1;32m   4447\u001b[0m \u001b[38;5;28mself\u001b[39m\u001b[38;5;241m.\u001b[39m_warn_on_events \u001b[38;5;241m=\u001b[39m \u001b[38;5;28;01mTrue\u001b[39;00m\n\u001b[1;32m   4448\u001b[0m \u001b[38;5;28;01mtry\u001b[39;00m:\n\u001b[0;32m-> 4449\u001b[0m     \u001b[43mflush_context\u001b[49m\u001b[38;5;241;43m.\u001b[39;49m\u001b[43mexecute\u001b[49m\u001b[43m(\u001b[49m\u001b[43m)\u001b[49m\n\u001b[1;32m   4450\u001b[0m \u001b[38;5;28;01mfinally\u001b[39;00m:\n\u001b[1;32m   4451\u001b[0m     \u001b[38;5;28mself\u001b[39m\u001b[38;5;241m.\u001b[39m_warn_on_events \u001b[38;5;241m=\u001b[39m \u001b[38;5;28;01mFalse\u001b[39;00m\n",
      "File \u001b[0;32m~/.pyenv/versions/SSMSOC-virtualenv-3.10.14/lib/python3.10/site-packages/sqlalchemy/orm/unitofwork.py:466\u001b[0m, in \u001b[0;36mUOWTransaction.execute\u001b[0;34m(self)\u001b[0m\n\u001b[1;32m    464\u001b[0m \u001b[38;5;28;01melse\u001b[39;00m:\n\u001b[1;32m    465\u001b[0m     \u001b[38;5;28;01mfor\u001b[39;00m rec \u001b[38;5;129;01min\u001b[39;00m topological\u001b[38;5;241m.\u001b[39msort(\u001b[38;5;28mself\u001b[39m\u001b[38;5;241m.\u001b[39mdependencies, postsort_actions):\n\u001b[0;32m--> 466\u001b[0m         \u001b[43mrec\u001b[49m\u001b[38;5;241;43m.\u001b[39;49m\u001b[43mexecute\u001b[49m\u001b[43m(\u001b[49m\u001b[38;5;28;43mself\u001b[39;49m\u001b[43m)\u001b[49m\n",
      "File \u001b[0;32m~/.pyenv/versions/SSMSOC-virtualenv-3.10.14/lib/python3.10/site-packages/sqlalchemy/orm/unitofwork.py:642\u001b[0m, in \u001b[0;36mSaveUpdateAll.execute\u001b[0;34m(self, uow)\u001b[0m\n\u001b[1;32m    640\u001b[0m \u001b[38;5;129m@util\u001b[39m\u001b[38;5;241m.\u001b[39mpreload_module(\u001b[38;5;124m\"\u001b[39m\u001b[38;5;124msqlalchemy.orm.persistence\u001b[39m\u001b[38;5;124m\"\u001b[39m)\n\u001b[1;32m    641\u001b[0m \u001b[38;5;28;01mdef\u001b[39;00m\u001b[38;5;250m \u001b[39m\u001b[38;5;21mexecute\u001b[39m(\u001b[38;5;28mself\u001b[39m, uow):\n\u001b[0;32m--> 642\u001b[0m     \u001b[43mutil\u001b[49m\u001b[38;5;241;43m.\u001b[39;49m\u001b[43mpreloaded\u001b[49m\u001b[38;5;241;43m.\u001b[39;49m\u001b[43morm_persistence\u001b[49m\u001b[38;5;241;43m.\u001b[39;49m\u001b[43msave_obj\u001b[49m\u001b[43m(\u001b[49m\n\u001b[1;32m    643\u001b[0m \u001b[43m        \u001b[49m\u001b[38;5;28;43mself\u001b[39;49m\u001b[38;5;241;43m.\u001b[39;49m\u001b[43mmapper\u001b[49m\u001b[43m,\u001b[49m\n\u001b[1;32m    644\u001b[0m \u001b[43m        \u001b[49m\u001b[43muow\u001b[49m\u001b[38;5;241;43m.\u001b[39;49m\u001b[43mstates_for_mapper_hierarchy\u001b[49m\u001b[43m(\u001b[49m\u001b[38;5;28;43mself\u001b[39;49m\u001b[38;5;241;43m.\u001b[39;49m\u001b[43mmapper\u001b[49m\u001b[43m,\u001b[49m\u001b[43m \u001b[49m\u001b[38;5;28;43;01mFalse\u001b[39;49;00m\u001b[43m,\u001b[49m\u001b[43m \u001b[49m\u001b[38;5;28;43;01mFalse\u001b[39;49;00m\u001b[43m)\u001b[49m\u001b[43m,\u001b[49m\n\u001b[1;32m    645\u001b[0m \u001b[43m        \u001b[49m\u001b[43muow\u001b[49m\u001b[43m,\u001b[49m\n\u001b[1;32m    646\u001b[0m \u001b[43m    \u001b[49m\u001b[43m)\u001b[49m\n",
      "File \u001b[0;32m~/.pyenv/versions/SSMSOC-virtualenv-3.10.14/lib/python3.10/site-packages/sqlalchemy/orm/persistence.py:93\u001b[0m, in \u001b[0;36msave_obj\u001b[0;34m(base_mapper, states, uowtransaction, single)\u001b[0m\n\u001b[1;32m     81\u001b[0m     update \u001b[38;5;241m=\u001b[39m _collect_update_commands(\n\u001b[1;32m     82\u001b[0m         uowtransaction, table, states_to_update\n\u001b[1;32m     83\u001b[0m     )\n\u001b[1;32m     85\u001b[0m     _emit_update_statements(\n\u001b[1;32m     86\u001b[0m         base_mapper,\n\u001b[1;32m     87\u001b[0m         uowtransaction,\n\u001b[0;32m   (...)\u001b[0m\n\u001b[1;32m     90\u001b[0m         update,\n\u001b[1;32m     91\u001b[0m     )\n\u001b[0;32m---> 93\u001b[0m     \u001b[43m_emit_insert_statements\u001b[49m\u001b[43m(\u001b[49m\n\u001b[1;32m     94\u001b[0m \u001b[43m        \u001b[49m\u001b[43mbase_mapper\u001b[49m\u001b[43m,\u001b[49m\n\u001b[1;32m     95\u001b[0m \u001b[43m        \u001b[49m\u001b[43muowtransaction\u001b[49m\u001b[43m,\u001b[49m\n\u001b[1;32m     96\u001b[0m \u001b[43m        \u001b[49m\u001b[43mmapper\u001b[49m\u001b[43m,\u001b[49m\n\u001b[1;32m     97\u001b[0m \u001b[43m        \u001b[49m\u001b[43mtable\u001b[49m\u001b[43m,\u001b[49m\n\u001b[1;32m     98\u001b[0m \u001b[43m        \u001b[49m\u001b[43minsert\u001b[49m\u001b[43m,\u001b[49m\n\u001b[1;32m     99\u001b[0m \u001b[43m    \u001b[49m\u001b[43m)\u001b[49m\n\u001b[1;32m    101\u001b[0m _finalize_insert_update_commands(\n\u001b[1;32m    102\u001b[0m     base_mapper,\n\u001b[1;32m    103\u001b[0m     uowtransaction,\n\u001b[0;32m   (...)\u001b[0m\n\u001b[1;32m    119\u001b[0m     ),\n\u001b[1;32m    120\u001b[0m )\n",
      "File \u001b[0;32m~/.pyenv/versions/SSMSOC-virtualenv-3.10.14/lib/python3.10/site-packages/sqlalchemy/orm/persistence.py:1048\u001b[0m, in \u001b[0;36m_emit_insert_statements\u001b[0;34m(base_mapper, uowtransaction, mapper, table, insert, bookkeeping, use_orm_insert_stmt, execution_options)\u001b[0m\n\u001b[1;32m   1045\u001b[0m records \u001b[38;5;241m=\u001b[39m \u001b[38;5;28mlist\u001b[39m(records)\n\u001b[1;32m   1046\u001b[0m multiparams \u001b[38;5;241m=\u001b[39m [rec[\u001b[38;5;241m2\u001b[39m] \u001b[38;5;28;01mfor\u001b[39;00m rec \u001b[38;5;129;01min\u001b[39;00m records]\n\u001b[0;32m-> 1048\u001b[0m result \u001b[38;5;241m=\u001b[39m \u001b[43mconnection\u001b[49m\u001b[38;5;241;43m.\u001b[39;49m\u001b[43mexecute\u001b[49m\u001b[43m(\u001b[49m\n\u001b[1;32m   1049\u001b[0m \u001b[43m    \u001b[49m\u001b[43mstatement\u001b[49m\u001b[43m,\u001b[49m\u001b[43m \u001b[49m\u001b[43mmultiparams\u001b[49m\u001b[43m,\u001b[49m\u001b[43m \u001b[49m\u001b[43mexecution_options\u001b[49m\u001b[38;5;241;43m=\u001b[39;49m\u001b[43mexecution_options\u001b[49m\n\u001b[1;32m   1050\u001b[0m \u001b[43m\u001b[49m\u001b[43m)\u001b[49m\n\u001b[1;32m   1051\u001b[0m \u001b[38;5;28;01mif\u001b[39;00m bookkeeping:\n\u001b[1;32m   1052\u001b[0m     \u001b[38;5;28;01mfor\u001b[39;00m (\n\u001b[1;32m   1053\u001b[0m         (\n\u001b[1;32m   1054\u001b[0m             state,\n\u001b[0;32m   (...)\u001b[0m\n\u001b[1;32m   1063\u001b[0m         last_inserted_params,\n\u001b[1;32m   1064\u001b[0m     ) \u001b[38;5;129;01min\u001b[39;00m \u001b[38;5;28mzip\u001b[39m(records, result\u001b[38;5;241m.\u001b[39mcontext\u001b[38;5;241m.\u001b[39mcompiled_parameters):\n",
      "File \u001b[0;32m~/.pyenv/versions/SSMSOC-virtualenv-3.10.14/lib/python3.10/site-packages/sqlalchemy/engine/base.py:1416\u001b[0m, in \u001b[0;36mConnection.execute\u001b[0;34m(self, statement, parameters, execution_options)\u001b[0m\n\u001b[1;32m   1414\u001b[0m     \u001b[38;5;28;01mraise\u001b[39;00m exc\u001b[38;5;241m.\u001b[39mObjectNotExecutableError(statement) \u001b[38;5;28;01mfrom\u001b[39;00m\u001b[38;5;250m \u001b[39m\u001b[38;5;21;01merr\u001b[39;00m\n\u001b[1;32m   1415\u001b[0m \u001b[38;5;28;01melse\u001b[39;00m:\n\u001b[0;32m-> 1416\u001b[0m     \u001b[38;5;28;01mreturn\u001b[39;00m \u001b[43mmeth\u001b[49m\u001b[43m(\u001b[49m\n\u001b[1;32m   1417\u001b[0m \u001b[43m        \u001b[49m\u001b[38;5;28;43mself\u001b[39;49m\u001b[43m,\u001b[49m\n\u001b[1;32m   1418\u001b[0m \u001b[43m        \u001b[49m\u001b[43mdistilled_parameters\u001b[49m\u001b[43m,\u001b[49m\n\u001b[1;32m   1419\u001b[0m \u001b[43m        \u001b[49m\u001b[43mexecution_options\u001b[49m\u001b[43m \u001b[49m\u001b[38;5;129;43;01mor\u001b[39;49;00m\u001b[43m \u001b[49m\u001b[43mNO_OPTIONS\u001b[49m\u001b[43m,\u001b[49m\n\u001b[1;32m   1420\u001b[0m \u001b[43m    \u001b[49m\u001b[43m)\u001b[49m\n",
      "File \u001b[0;32m~/.pyenv/versions/SSMSOC-virtualenv-3.10.14/lib/python3.10/site-packages/sqlalchemy/sql/elements.py:515\u001b[0m, in \u001b[0;36mClauseElement._execute_on_connection\u001b[0;34m(self, connection, distilled_params, execution_options)\u001b[0m\n\u001b[1;32m    513\u001b[0m     \u001b[38;5;28;01mif\u001b[39;00m TYPE_CHECKING:\n\u001b[1;32m    514\u001b[0m         \u001b[38;5;28;01massert\u001b[39;00m \u001b[38;5;28misinstance\u001b[39m(\u001b[38;5;28mself\u001b[39m, Executable)\n\u001b[0;32m--> 515\u001b[0m     \u001b[38;5;28;01mreturn\u001b[39;00m \u001b[43mconnection\u001b[49m\u001b[38;5;241;43m.\u001b[39;49m\u001b[43m_execute_clauseelement\u001b[49m\u001b[43m(\u001b[49m\n\u001b[1;32m    516\u001b[0m \u001b[43m        \u001b[49m\u001b[38;5;28;43mself\u001b[39;49m\u001b[43m,\u001b[49m\u001b[43m \u001b[49m\u001b[43mdistilled_params\u001b[49m\u001b[43m,\u001b[49m\u001b[43m \u001b[49m\u001b[43mexecution_options\u001b[49m\n\u001b[1;32m    517\u001b[0m \u001b[43m    \u001b[49m\u001b[43m)\u001b[49m\n\u001b[1;32m    518\u001b[0m \u001b[38;5;28;01melse\u001b[39;00m:\n\u001b[1;32m    519\u001b[0m     \u001b[38;5;28;01mraise\u001b[39;00m exc\u001b[38;5;241m.\u001b[39mObjectNotExecutableError(\u001b[38;5;28mself\u001b[39m)\n",
      "File \u001b[0;32m~/.pyenv/versions/SSMSOC-virtualenv-3.10.14/lib/python3.10/site-packages/sqlalchemy/engine/base.py:1638\u001b[0m, in \u001b[0;36mConnection._execute_clauseelement\u001b[0;34m(self, elem, distilled_parameters, execution_options)\u001b[0m\n\u001b[1;32m   1626\u001b[0m compiled_cache: Optional[CompiledCacheType] \u001b[38;5;241m=\u001b[39m execution_options\u001b[38;5;241m.\u001b[39mget(\n\u001b[1;32m   1627\u001b[0m     \u001b[38;5;124m\"\u001b[39m\u001b[38;5;124mcompiled_cache\u001b[39m\u001b[38;5;124m\"\u001b[39m, \u001b[38;5;28mself\u001b[39m\u001b[38;5;241m.\u001b[39mengine\u001b[38;5;241m.\u001b[39m_compiled_cache\n\u001b[1;32m   1628\u001b[0m )\n\u001b[1;32m   1630\u001b[0m compiled_sql, extracted_params, cache_hit \u001b[38;5;241m=\u001b[39m elem\u001b[38;5;241m.\u001b[39m_compile_w_cache(\n\u001b[1;32m   1631\u001b[0m     dialect\u001b[38;5;241m=\u001b[39mdialect,\n\u001b[1;32m   1632\u001b[0m     compiled_cache\u001b[38;5;241m=\u001b[39mcompiled_cache,\n\u001b[0;32m   (...)\u001b[0m\n\u001b[1;32m   1636\u001b[0m     linting\u001b[38;5;241m=\u001b[39m\u001b[38;5;28mself\u001b[39m\u001b[38;5;241m.\u001b[39mdialect\u001b[38;5;241m.\u001b[39mcompiler_linting \u001b[38;5;241m|\u001b[39m compiler\u001b[38;5;241m.\u001b[39mWARN_LINTING,\n\u001b[1;32m   1637\u001b[0m )\n\u001b[0;32m-> 1638\u001b[0m ret \u001b[38;5;241m=\u001b[39m \u001b[38;5;28;43mself\u001b[39;49m\u001b[38;5;241;43m.\u001b[39;49m\u001b[43m_execute_context\u001b[49m\u001b[43m(\u001b[49m\n\u001b[1;32m   1639\u001b[0m \u001b[43m    \u001b[49m\u001b[43mdialect\u001b[49m\u001b[43m,\u001b[49m\n\u001b[1;32m   1640\u001b[0m \u001b[43m    \u001b[49m\u001b[43mdialect\u001b[49m\u001b[38;5;241;43m.\u001b[39;49m\u001b[43mexecution_ctx_cls\u001b[49m\u001b[38;5;241;43m.\u001b[39;49m\u001b[43m_init_compiled\u001b[49m\u001b[43m,\u001b[49m\n\u001b[1;32m   1641\u001b[0m \u001b[43m    \u001b[49m\u001b[43mcompiled_sql\u001b[49m\u001b[43m,\u001b[49m\n\u001b[1;32m   1642\u001b[0m \u001b[43m    \u001b[49m\u001b[43mdistilled_parameters\u001b[49m\u001b[43m,\u001b[49m\n\u001b[1;32m   1643\u001b[0m \u001b[43m    \u001b[49m\u001b[43mexecution_options\u001b[49m\u001b[43m,\u001b[49m\n\u001b[1;32m   1644\u001b[0m \u001b[43m    \u001b[49m\u001b[43mcompiled_sql\u001b[49m\u001b[43m,\u001b[49m\n\u001b[1;32m   1645\u001b[0m \u001b[43m    \u001b[49m\u001b[43mdistilled_parameters\u001b[49m\u001b[43m,\u001b[49m\n\u001b[1;32m   1646\u001b[0m \u001b[43m    \u001b[49m\u001b[43melem\u001b[49m\u001b[43m,\u001b[49m\n\u001b[1;32m   1647\u001b[0m \u001b[43m    \u001b[49m\u001b[43mextracted_params\u001b[49m\u001b[43m,\u001b[49m\n\u001b[1;32m   1648\u001b[0m \u001b[43m    \u001b[49m\u001b[43mcache_hit\u001b[49m\u001b[38;5;241;43m=\u001b[39;49m\u001b[43mcache_hit\u001b[49m\u001b[43m,\u001b[49m\n\u001b[1;32m   1649\u001b[0m \u001b[43m\u001b[49m\u001b[43m)\u001b[49m\n\u001b[1;32m   1650\u001b[0m \u001b[38;5;28;01mif\u001b[39;00m has_events:\n\u001b[1;32m   1651\u001b[0m     \u001b[38;5;28mself\u001b[39m\u001b[38;5;241m.\u001b[39mdispatch\u001b[38;5;241m.\u001b[39mafter_execute(\n\u001b[1;32m   1652\u001b[0m         \u001b[38;5;28mself\u001b[39m,\n\u001b[1;32m   1653\u001b[0m         elem,\n\u001b[0;32m   (...)\u001b[0m\n\u001b[1;32m   1657\u001b[0m         ret,\n\u001b[1;32m   1658\u001b[0m     )\n",
      "File \u001b[0;32m~/.pyenv/versions/SSMSOC-virtualenv-3.10.14/lib/python3.10/site-packages/sqlalchemy/engine/base.py:1843\u001b[0m, in \u001b[0;36mConnection._execute_context\u001b[0;34m(self, dialect, constructor, statement, parameters, execution_options, *args, **kw)\u001b[0m\n\u001b[1;32m   1841\u001b[0m     \u001b[38;5;28;01mreturn\u001b[39;00m \u001b[38;5;28mself\u001b[39m\u001b[38;5;241m.\u001b[39m_exec_insertmany_context(dialect, context)\n\u001b[1;32m   1842\u001b[0m \u001b[38;5;28;01melse\u001b[39;00m:\n\u001b[0;32m-> 1843\u001b[0m     \u001b[38;5;28;01mreturn\u001b[39;00m \u001b[38;5;28;43mself\u001b[39;49m\u001b[38;5;241;43m.\u001b[39;49m\u001b[43m_exec_single_context\u001b[49m\u001b[43m(\u001b[49m\n\u001b[1;32m   1844\u001b[0m \u001b[43m        \u001b[49m\u001b[43mdialect\u001b[49m\u001b[43m,\u001b[49m\u001b[43m \u001b[49m\u001b[43mcontext\u001b[49m\u001b[43m,\u001b[49m\u001b[43m \u001b[49m\u001b[43mstatement\u001b[49m\u001b[43m,\u001b[49m\u001b[43m \u001b[49m\u001b[43mparameters\u001b[49m\n\u001b[1;32m   1845\u001b[0m \u001b[43m    \u001b[49m\u001b[43m)\u001b[49m\n",
      "File \u001b[0;32m~/.pyenv/versions/SSMSOC-virtualenv-3.10.14/lib/python3.10/site-packages/sqlalchemy/engine/base.py:1983\u001b[0m, in \u001b[0;36mConnection._exec_single_context\u001b[0;34m(self, dialect, context, statement, parameters)\u001b[0m\n\u001b[1;32m   1980\u001b[0m     result \u001b[38;5;241m=\u001b[39m context\u001b[38;5;241m.\u001b[39m_setup_result_proxy()\n\u001b[1;32m   1982\u001b[0m \u001b[38;5;28;01mexcept\u001b[39;00m \u001b[38;5;167;01mBaseException\u001b[39;00m \u001b[38;5;28;01mas\u001b[39;00m e:\n\u001b[0;32m-> 1983\u001b[0m     \u001b[38;5;28;43mself\u001b[39;49m\u001b[38;5;241;43m.\u001b[39;49m\u001b[43m_handle_dbapi_exception\u001b[49m\u001b[43m(\u001b[49m\n\u001b[1;32m   1984\u001b[0m \u001b[43m        \u001b[49m\u001b[43me\u001b[49m\u001b[43m,\u001b[49m\u001b[43m \u001b[49m\u001b[43mstr_statement\u001b[49m\u001b[43m,\u001b[49m\u001b[43m \u001b[49m\u001b[43meffective_parameters\u001b[49m\u001b[43m,\u001b[49m\u001b[43m \u001b[49m\u001b[43mcursor\u001b[49m\u001b[43m,\u001b[49m\u001b[43m \u001b[49m\u001b[43mcontext\u001b[49m\n\u001b[1;32m   1985\u001b[0m \u001b[43m    \u001b[49m\u001b[43m)\u001b[49m\n\u001b[1;32m   1987\u001b[0m \u001b[38;5;28;01mreturn\u001b[39;00m result\n",
      "File \u001b[0;32m~/.pyenv/versions/SSMSOC-virtualenv-3.10.14/lib/python3.10/site-packages/sqlalchemy/engine/base.py:2352\u001b[0m, in \u001b[0;36mConnection._handle_dbapi_exception\u001b[0;34m(self, e, statement, parameters, cursor, context, is_sub_exec)\u001b[0m\n\u001b[1;32m   2350\u001b[0m \u001b[38;5;28;01melif\u001b[39;00m should_wrap:\n\u001b[1;32m   2351\u001b[0m     \u001b[38;5;28;01massert\u001b[39;00m sqlalchemy_exception \u001b[38;5;129;01mis\u001b[39;00m \u001b[38;5;129;01mnot\u001b[39;00m \u001b[38;5;28;01mNone\u001b[39;00m\n\u001b[0;32m-> 2352\u001b[0m     \u001b[38;5;28;01mraise\u001b[39;00m sqlalchemy_exception\u001b[38;5;241m.\u001b[39mwith_traceback(exc_info[\u001b[38;5;241m2\u001b[39m]) \u001b[38;5;28;01mfrom\u001b[39;00m\u001b[38;5;250m \u001b[39m\u001b[38;5;21;01me\u001b[39;00m\n\u001b[1;32m   2353\u001b[0m \u001b[38;5;28;01melse\u001b[39;00m:\n\u001b[1;32m   2354\u001b[0m     \u001b[38;5;28;01massert\u001b[39;00m exc_info[\u001b[38;5;241m1\u001b[39m] \u001b[38;5;129;01mis\u001b[39;00m \u001b[38;5;129;01mnot\u001b[39;00m \u001b[38;5;28;01mNone\u001b[39;00m\n",
      "File \u001b[0;32m~/.pyenv/versions/SSMSOC-virtualenv-3.10.14/lib/python3.10/site-packages/sqlalchemy/engine/base.py:1933\u001b[0m, in \u001b[0;36mConnection._exec_single_context\u001b[0;34m(self, dialect, context, statement, parameters)\u001b[0m\n\u001b[1;32m   1931\u001b[0m                 \u001b[38;5;28;01mbreak\u001b[39;00m\n\u001b[1;32m   1932\u001b[0m     \u001b[38;5;28;01mif\u001b[39;00m \u001b[38;5;129;01mnot\u001b[39;00m evt_handled:\n\u001b[0;32m-> 1933\u001b[0m         \u001b[38;5;28;43mself\u001b[39;49m\u001b[38;5;241;43m.\u001b[39;49m\u001b[43mdialect\u001b[49m\u001b[38;5;241;43m.\u001b[39;49m\u001b[43mdo_executemany\u001b[49m\u001b[43m(\u001b[49m\n\u001b[1;32m   1934\u001b[0m \u001b[43m            \u001b[49m\u001b[43mcursor\u001b[49m\u001b[43m,\u001b[49m\n\u001b[1;32m   1935\u001b[0m \u001b[43m            \u001b[49m\u001b[43mstr_statement\u001b[49m\u001b[43m,\u001b[49m\n\u001b[1;32m   1936\u001b[0m \u001b[43m            \u001b[49m\u001b[43meffective_parameters\u001b[49m\u001b[43m,\u001b[49m\n\u001b[1;32m   1937\u001b[0m \u001b[43m            \u001b[49m\u001b[43mcontext\u001b[49m\u001b[43m,\u001b[49m\n\u001b[1;32m   1938\u001b[0m \u001b[43m        \u001b[49m\u001b[43m)\u001b[49m\n\u001b[1;32m   1939\u001b[0m \u001b[38;5;28;01melif\u001b[39;00m \u001b[38;5;129;01mnot\u001b[39;00m effective_parameters \u001b[38;5;129;01mand\u001b[39;00m context\u001b[38;5;241m.\u001b[39mno_parameters:\n\u001b[1;32m   1940\u001b[0m     \u001b[38;5;28;01mif\u001b[39;00m \u001b[38;5;28mself\u001b[39m\u001b[38;5;241m.\u001b[39mdialect\u001b[38;5;241m.\u001b[39m_has_events:\n",
      "File \u001b[0;32m~/.pyenv/versions/SSMSOC-virtualenv-3.10.14/lib/python3.10/site-packages/sqlalchemy/engine/default.py:939\u001b[0m, in \u001b[0;36mDefaultDialect.do_executemany\u001b[0;34m(self, cursor, statement, parameters, context)\u001b[0m\n\u001b[1;32m    938\u001b[0m \u001b[38;5;28;01mdef\u001b[39;00m\u001b[38;5;250m \u001b[39m\u001b[38;5;21mdo_executemany\u001b[39m(\u001b[38;5;28mself\u001b[39m, cursor, statement, parameters, context\u001b[38;5;241m=\u001b[39m\u001b[38;5;28;01mNone\u001b[39;00m):\n\u001b[0;32m--> 939\u001b[0m     \u001b[43mcursor\u001b[49m\u001b[38;5;241;43m.\u001b[39;49m\u001b[43mexecutemany\u001b[49m\u001b[43m(\u001b[49m\u001b[43mstatement\u001b[49m\u001b[43m,\u001b[49m\u001b[43m \u001b[49m\u001b[43mparameters\u001b[49m\u001b[43m)\u001b[49m\n",
      "\u001b[0;31mIntegrityError\u001b[0m: (sqlite3.IntegrityError) UNIQUE constraint failed: activity.id\n[SQL: INSERT INTO activity (id, name, start_time, end_time, modified_at, game_id, owner_id, athlete_count, period_count) VALUES (?, ?, ?, ?, ?, ?, ?, ?, ?)]\n[parameters: [('8680b45a-af2c-4533-8e7c-aa796dfc8749', '1-30-25 Training', 1738260321, 1738268470, '2025-01-30 22:50:37.000000', '8680b45a-af2c-4533-8e7c-aa796dfc8749', '7a2d7038-31c8-4515-be38-9044b9f7ed49', 19, 12), ('aab46b07-cfa6-48f3-a550-383f9accb4d2', '1-28-25 Training', 1738087693, 1738097275, '2025-01-28 21:05:52.000000', 'aab46b07-cfa6-48f3-a550-383f9accb4d2', '7a2d7038-31c8-4515-be38-9044b9f7ed49', 16, 10), ('3024f0ea-c087-464b-97ec-c63ecea7a7d7', '1-27-24 Training', 1738006619, 1738025684, '2025-01-28 21:05:52.000000', '3024f0ea-c087-464b-97ec-c63ecea7a7d7', '7a2d7038-31c8-4515-be38-9044b9f7ed49', 17, 8), ('c2cb2d5e-2849-44c2-adba-08ed7ed124b9', '1-24-25 Training', 1737747132, 1737752165, '2025-01-27 18:21:41.000000', 'c2cb2d5e-2849-44c2-adba-08ed7ed124b9', '7a2d7038-31c8-4515-be38-9044b9f7ed49', 18, 6), ('28a547f2-8b78-4e2d-a03f-3b8f5dddc00c', '1-23-24 Training', 1737655525, 1737665797, '2025-01-23 21:25:32.000000', '28a547f2-8b78-4e2d-a03f-3b8f5dddc00c', '7a2d7038-31c8-4515-be38-9044b9f7ed49', 15, 11), ('83d851e3-3518-4262-9192-a2b4567320e8', '1-21-25 Training', 1737482649, 1737493291, '2025-01-21 21:29:53.000000', '83d851e3-3518-4262-9192-a2b4567320e8', '7a2d7038-31c8-4515-be38-9044b9f7ed49', 19, 11), ('cb0a77c2-5add-48f0-9566-7345058e736c', '1-16-25 General', 1737051019, 1737058628, '2025-01-16 23:54:53.000000', 'cb0a77c2-5add-48f0-9566-7345058e736c', '7a2d7038-31c8-4515-be38-9044b9f7ed49', 18, 15), ('fdc896f6-1a4e-4e2c-9a5f-8828670fe82d', '1-14-25 General', 1736877514, 1736886294, '2025-01-14 21:35:30.000000', 'fdc896f6-1a4e-4e2c-9a5f-8828670fe82d', '7a2d7038-31c8-4515-be38-9044b9f7ed49', 17, 12)  ... displaying 10 of 1558 total bound parameter sets ...  ('268da4ba-a767-4d23-94e6-da9228ff35e7', 'Activity 20160620152725', 1466461645, 1466468051, '2020-12-07 16:37:56.000000', '268da4ba-a767-4d23-94e6-da9228ff35e7', '7a2d7038-31c8-4515-be38-9044b9f7ed49', 3, 1), ('1f69231c-a988-4ad0-a612-fe8a4162dc0a', 'Activity 20160620140738', 1466456825, 1466459435, '2020-12-07 16:37:56.000000', '1f69231c-a988-4ad0-a612-fe8a4162dc0a', '7a2d7038-31c8-4515-be38-9044b9f7ed49', 5, 1)]]\n(Background on this error at: https://sqlalche.me/e/20/gkpj)"
     ]
    }
   ],
   "source": [
    "def parse_datetime(date_string):\n",
    "    if date_string:\n",
    "        return datetime.strptime(date_string, \"%Y-%m-%d %H:%M:%S\")\n",
    "    return None\n",
    "\n",
    "def store_activities(data):\n",
    "    create_db_and_tables()\n",
    "\n",
    "    with Session(engine) as session:\n",
    "        for activity_data in data:\n",
    "            # # Create Owner\n",
    "            # owner = Owner(\n",
    "            #     id=activity_data[\"owner\"][\"id\"],\n",
    "            #     customer_id=activity_data[\"owner\"][\"customer_id\"],\n",
    "            #     name=activity_data[\"owner\"][\"name\"],\n",
    "            #     email=activity_data[\"owner\"][\"email\"],\n",
    "            #     is_synced=activity_data[\"owner\"][\"is_synced\"],\n",
    "            #     is_deleted=activity_data[\"owner\"][\"is_deleted\"],\n",
    "            #     created_at=parse_datetime(activity_data[\"owner\"][\"created_at\"]),\n",
    "            #     modified_at=parse_datetime(activity_data[\"owner\"][\"modified_at\"]),\n",
    "            #     default=activity_data[\"owner\"][\"default\"],\n",
    "            #     full_name=activity_data[\"owner\"][\"full_name\"],\n",
    "            # )\n",
    "            # session.add(owner)\n",
    "\n",
    "            # Create Activity\n",
    "            activity = Activity(\n",
    "                id=activity_data[\"id\"],\n",
    "                name=activity_data[\"name\"],\n",
    "                start_time=activity_data[\"start_time\"],\n",
    "                end_time=activity_data[\"end_time\"],\n",
    "                modified_at=parse_datetime(activity_data[\"modified_at\"]),\n",
    "                game_id=activity_data[\"game_id\"],\n",
    "                owner_id=activity_data[\"owner_id\"],\n",
    "                athlete_count=activity_data[\"athlete_count\"],\n",
    "                period_count=activity_data[\"period_count\"],\n",
    "                # owner=owner\n",
    "            )\n",
    "            session.add(activity)\n",
    "\n",
    "            # Create Periods\n",
    "            for period_data in activity_data[\"periods\"]:\n",
    "                period = Period(\n",
    "                    id=period_data[\"id\"],\n",
    "                    activity_id=period_data[\"activity_id\"],\n",
    "                    period_depth_id=period_data[\"period_depth_id\"],\n",
    "                    name=period_data[\"name\"],\n",
    "                    start_time=period_data[\"start_time\"],\n",
    "                    start_centiseconds=period_data[\"start_centiseconds\"],\n",
    "                    end_time=period_data[\"end_time\"],\n",
    "                    end_centiseconds=period_data[\"end_centiseconds\"],\n",
    "                    lft=period_data[\"lft\"],\n",
    "                    rgt=period_data[\"rgt\"],\n",
    "                    is_synced=period_data[\"is_synced\"],\n",
    "                    is_deleted=period_data[\"is_deleted\"],\n",
    "                    is_injected=period_data[\"is_injected\"],\n",
    "                    created_at=parse_datetime(period_data[\"created_at\"]),\n",
    "                    modified_at=parse_datetime(period_data[\"modified_at\"]),\n",
    "                    user_id=period_data[\"user_id\"]\n",
    "                )\n",
    "                session.add(period)\n",
    "            #\n",
    "            # # Create Tags\n",
    "            # for tag_data in activity_data[\"tag_list\"]:\n",
    "            #     tag = Tag(\n",
    "            #         id=tag_data[\"id\"],\n",
    "            #         tag_type_id=tag_data[\"tag_type_id\"],\n",
    "            #         name=tag_data[\"name\"],\n",
    "            #         tag_type_name=tag_data[\"tag_type_name\"],\n",
    "            #         tag_name=tag_data[\"tag_name\"]\n",
    "            #     )\n",
    "            #     session.add(tag)\n",
    "            #     activity.tag_list.append(tag)\n",
    "\n",
    "        session.commit()\n",
    "        session.close()\n",
    "\n",
    "\n",
    "# Usage\n",
    "with open('activities_data.json', 'r') as f:\n",
    "    activities_data = json.load(f)\n",
    "store_activities(activities_data)\n"
   ]
  },
  {
   "cell_type": "code",
   "execution_count": null,
   "id": "ba6ef24a3f45ee1",
   "metadata": {},
   "outputs": [],
   "source": []
  },
  {
   "cell_type": "markdown",
   "id": "abedfc0c65ddb448",
   "metadata": {},
   "source": [
    "Player running around\n",
    "\n",
    "115 long by 75 wide (yards)"
   ]
  },
  {
   "cell_type": "code",
   "execution_count": 21,
   "id": "82cb1bf9fea6d0dc",
   "metadata": {
    "ExecuteTime": {
     "end_time": "2025-02-01T22:55:37.276142Z",
     "start_time": "2025-02-01T22:55:34.873278Z"
    }
   },
   "outputs": [
    {
     "name": "stdout",
     "output_type": "stream",
     "text": [
      "5618750\n"
     ]
    }
   ],
   "source": [
    "data = getData('activities/d3a79f2e-9fab-40b3-b64e-56edbb966e05/athletes/16bef5df-a172-430c-ae67-35ee189d6fc1/sensor')\n",
    "print(len(data))\n",
    "# print(type(data))\n",
    "# print(data)\n",
    "\n",
    "with open('someone_running_around_data.json', 'w') as json_file:\n",
    "    json.dump(json.loads(data), json_file)"
   ]
  },
  {
   "cell_type": "code",
   "execution_count": 34,
   "id": "65818b3b9ebc39c8",
   "metadata": {
    "ExecuteTime": {
     "end_time": "2025-02-01T23:10:33.510313Z",
     "start_time": "2025-02-01T23:10:33.410159Z"
    }
   },
   "outputs": [
    {
     "ename": "TypeError",
     "evalue": "list indices must be integers or slices, not list",
     "output_type": "error",
     "traceback": [
      "\u001b[0;31m---------------------------------------------------------------------------\u001b[0m",
      "\u001b[0;31mTypeError\u001b[0m                                 Traceback (most recent call last)",
      "Cell \u001b[0;32mIn[34], line 36\u001b[0m\n\u001b[1;32m     34\u001b[0m field_length \u001b[38;5;241m=\u001b[39m \u001b[38;5;241m105\u001b[39m  \u001b[38;5;66;03m# meters\u001b[39;00m\n\u001b[1;32m     35\u001b[0m field_width \u001b[38;5;241m=\u001b[39m \u001b[38;5;241m68\u001b[39m  \u001b[38;5;66;03m# meters\u001b[39;00m\n\u001b[0;32m---> 36\u001b[0m x_normalized \u001b[38;5;241m=\u001b[39m [(xi \u001b[38;5;241m-\u001b[39m \u001b[38;5;28mmin\u001b[39m(processed_data[x])) \u001b[38;5;241m/\u001b[39m (\u001b[38;5;28mmax\u001b[39m(processed_data[x]) \u001b[38;5;241m-\u001b[39m \u001b[38;5;28mmin\u001b[39m(processed_data[x])) \u001b[38;5;241m*\u001b[39m field_length \u001b[38;5;28;01mfor\u001b[39;00m xi \u001b[38;5;129;01min\u001b[39;00m \u001b[43mprocessed_data\u001b[49m\u001b[43m[\u001b[49m\u001b[43mx\u001b[49m\u001b[43m]\u001b[49m]\n\u001b[1;32m     37\u001b[0m y_normalized \u001b[38;5;241m=\u001b[39m [(yi \u001b[38;5;241m-\u001b[39m \u001b[38;5;28mmin\u001b[39m(processed_data[y])) \u001b[38;5;241m/\u001b[39m (\u001b[38;5;28mmax\u001b[39m(processed_data[y]) \u001b[38;5;241m-\u001b[39m \u001b[38;5;28mmin\u001b[39m(processed_data[y])) \u001b[38;5;241m*\u001b[39m field_width \u001b[38;5;28;01mfor\u001b[39;00m yi \u001b[38;5;129;01min\u001b[39;00m processed_data[y]]\n\u001b[1;32m     39\u001b[0m \u001b[38;5;66;03m# Set up the figure and axis\u001b[39;00m\n",
      "\u001b[0;31mTypeError\u001b[0m: list indices must be integers or slices, not list"
     ]
    }
   ],
   "source": [
    "with open('someone_running_around_data.json', 'r') as f:\n",
    "    activities_data = json.load(f)\n",
    "    time_points = activities_data[0]['data']\n",
    "    # for point in data[0:1]:\n",
    "    #     print()\n",
    "\n",
    "    import matplotlib.pyplot as plt\n",
    "    import matplotlib.animation as animation\n",
    "    import numpy as np\n",
    "    from matplotlib.patches import Rectangle\n",
    "\n",
    "    # Assuming you have your data in a list called 'data'\n",
    "    # Extract x, y coordinates and timestamps\n",
    "    x = [point['x'] for point in time_points]\n",
    "    y = [point['y'] for point in time_points]\n",
    "    timestamps = [point['ts'] for point in time_points]\n",
    "\n",
    "    def process_data(data):\n",
    "        processed_data = []\n",
    "        for i, point in enumerate(data):\n",
    "            if i % 10000 == 0:\n",
    "                processed_data.append({\n",
    "                    'x': point['x'],\n",
    "                    'y': point['y'],\n",
    "                    'ts': point['ts']\n",
    "                })\n",
    "        return processed_data\n",
    "\n",
    "    # Assuming 'data' is your list of 500,000 data points\n",
    "    processed_data = process_data(time_points)\n",
    "\n",
    "\n",
    "# Normalize coordinates to fit a standard soccer field\n",
    "    field_length = 105  # meters\n",
    "    field_width = 68  # meters\n",
    "    x_normalized = [(xi - min(processed_data[x])) / (max(processed_data[x]) - min(processed_data[x])) * field_length for xi in processed_data[x]]\n",
    "    y_normalized = [(yi - min(processed_data[y])) / (max(processed_data[y]) - min(processed_data[y])) * field_width for yi in processed_data[y]]\n",
    "\n",
    "    # Set up the figure and axis\n",
    "    fig, ax = plt.subplots(figsize=(12, 8))\n",
    "    ax.set_xlim(0, field_length)\n",
    "    ax.set_ylim(0, field_width)\n",
    "\n",
    "    # Draw the soccer field\n",
    "    ax.add_patch(Rectangle((0, 0), field_length, field_width, fill=False, color='green'))\n",
    "    ax.add_patch(Rectangle((0, 0), 16.5, field_width, fill=False, color='white'))\n",
    "    ax.add_patch(Rectangle((field_length-16.5, 0), 16.5, field_width, fill=False, color='white'))\n",
    "    ax.add_patch(Rectangle((field_length/2-9.15, 0), 18.3, field_width, fill=False, color='white'))\n",
    "    plt.plot([field_length/2, field_length/2], [0, field_width], color='white')\n",
    "    center_circle = plt.Circle((field_length/2, field_width/2), 9.15, fill=False, color='white')\n",
    "    ax.add_artist(center_circle)\n",
    "\n",
    "    # Initialize the plot\n",
    "    line, = ax.plot([], [], 'r-', linewidth=2, alpha=0.6)\n",
    "    point, = ax.plot([], [], 'ro', markersize=8)\n",
    "\n",
    "    # Set title and remove axes\n",
    "    ax.set_title(\"Player Movement on Soccer Field\", fontsize=16)\n",
    "    ax.axis('off')\n",
    "\n",
    "    # Animation update function\n",
    "    def update(frame):\n",
    "        line.set_data(x_normalized[:frame], y_normalized[:frame])\n",
    "        point.set_data(x_normalized[frame], y_normalized[frame])\n",
    "        return line, point\n",
    "\n",
    "    # Create the animation\n",
    "    # anim = animation.FuncAnimation(fig, update, frames=len(x), interval=50, blit=True)\n",
    "\n",
    "    # Add a colorbar to show time progression\n",
    "    norm = plt.Normalize(min(processed_data[timestamps]), max(processed_data[timestamps]))\n",
    "    sm = plt.cm.ScalarMappable(cmap='viridis', norm=norm)\n",
    "    sm.set_array([])\n",
    "    cbar = plt.colorbar(sm)\n",
    "    cbar.set_label('Time', fontsize=12)\n",
    "\n",
    "    plt.tight_layout()\n",
    "\n",
    "    # Save the animation (optional)\n",
    "    # anim.save('player_movement.mp4', writer='ffmpeg', fps=30)\n",
    "\n",
    "    plt.show()\n",
    "\n"
   ]
  },
  {
   "cell_type": "code",
   "execution_count": null,
   "id": "f297b8e9eee2c2d6",
   "metadata": {},
   "outputs": [],
   "source": []
  }
 ],
 "metadata": {
  "kernelspec": {
   "display_name": "Python 3",
   "language": "python",
   "name": "python3"
  },
  "language_info": {
   "codemirror_mode": {
    "name": "ipython",
    "version": 2
   },
   "file_extension": ".py",
   "mimetype": "text/x-python",
   "name": "python",
   "nbconvert_exporter": "python",
   "pygments_lexer": "ipython2",
   "version": "2.7.6"
  }
 },
 "nbformat": 4,
 "nbformat_minor": 5
}
